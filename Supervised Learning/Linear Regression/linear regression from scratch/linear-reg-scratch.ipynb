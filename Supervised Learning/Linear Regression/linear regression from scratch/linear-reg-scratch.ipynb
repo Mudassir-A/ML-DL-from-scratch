{
 "cells": [
  {
   "cell_type": "markdown",
   "metadata": {},
   "source": [
    "# Linear Regression From Scratch"
   ]
  },
  {
   "cell_type": "code",
   "execution_count": 1,
   "metadata": {},
   "outputs": [],
   "source": [
    "import numpy as np\n",
    "import pandas as pd\n",
    "import matplotlib.pyplot as plt\n",
    "\n",
    "from sklearn.model_selection import train_test_split\n",
    "from sklearn.datasets import load_iris\n",
    "from sklearn.preprocessing import StandardScaler"
   ]
  },
  {
   "cell_type": "markdown",
   "metadata": {},
   "source": [
    "### Linear Line Regression"
   ]
  },
  {
   "cell_type": "code",
   "execution_count": 1,
   "metadata": {},
   "outputs": [],
   "source": [
    "class LinearRegression:\n",
    "\n",
    "    def __init__(self, learning_rate=0.01, iterations=1000) -> None:\n",
    "        self.learning_rate = learning_rate\n",
    "        self.iterations = iterations\n",
    "        self.losses = []\n",
    "\n",
    "    # passing dataset to the model\n",
    "    def fit(self, X, y):\n",
    "        # number of rows, cols in the dataset\n",
    "        self.rows, self.cols = X.shape\n",
    "        # initializing weight to zero to train model from origin\n",
    "        self.weights = np.zeros(self.cols)\n",
    "        # initializing bias \"C\" in formula\n",
    "        self.bias = 0\n",
    "\n",
    "        self.X = X\n",
    "        self.y = y\n",
    "\n",
    "        # implementing gradient descent\n",
    "        for i in range(self.iterations):\n",
    "            self.update_weights()\n",
    "            loss = self.calculate_loss()\n",
    "            self.losses.append(loss)\n",
    "\n",
    "            if i % 100 == 0:\n",
    "                print(\n",
    "                    f\"Iteration {i}: Weights: {self.weights}, Bias: {self.bias}, Loss: {loss}\"\n",
    "                )\n",
    "\n",
    "        return self\n",
    "\n",
    "    def update_weights(self):\n",
    "        y_pred = self.predict(self.X)\n",
    "        # implementing derivatives to weight and bias\n",
    "        derivate_weight = -(2 * (self.X.T).dot(self.y - y_pred)) / self.rows\n",
    "        derivate_bias = -2 * np.sum(self.y - y_pred) / self.rows\n",
    "\n",
    "        # updating weights\n",
    "        self.weights = self.weights - self.learning_rate * derivate_weight\n",
    "        self.bias = self.bias - self.learning_rate * derivate_bias\n",
    "\n",
    "        return self\n",
    "\n",
    "    # implementing 'f(x)' line formula\n",
    "    def predict(self, X):\n",
    "        return X.dot(self.weights) + self.bias\n",
    "\n",
    "    # calculate mean squared error loss\n",
    "    def calculate_loss(self):\n",
    "        y_pred = self.predict(self.X)\n",
    "        loss = np.mean((self.y - y_pred) ** 2)\n",
    "        return loss"
   ]
  },
  {
   "cell_type": "code",
   "execution_count": null,
   "metadata": {},
   "outputs": [],
   "source": [
    "iris = "
   ]
  }
 ],
 "metadata": {
  "kernelspec": {
   "display_name": "Python 3",
   "language": "python",
   "name": "python3"
  },
  "language_info": {
   "codemirror_mode": {
    "name": "ipython",
    "version": 3
   },
   "file_extension": ".py",
   "mimetype": "text/x-python",
   "name": "python",
   "nbconvert_exporter": "python",
   "pygments_lexer": "ipython3",
   "version": "3.12.4"
  }
 },
 "nbformat": 4,
 "nbformat_minor": 2
}
